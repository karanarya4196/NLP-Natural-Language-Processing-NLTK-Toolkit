{
 "cells": [
  {
   "cell_type": "markdown",
   "metadata": {},
   "source": [
    "# Sentence Tokenizer"
   ]
  },
  {
   "cell_type": "markdown",
   "metadata": {},
   "source": [
    "To isolate a huge text document into individual sentences, we utilise the `sent_tokenizer` function which creates an array of sentences."
   ]
  },
  {
   "cell_type": "code",
   "execution_count": 12,
   "metadata": {},
   "outputs": [],
   "source": [
    "from nltk.tokenize import sent_tokenize"
   ]
  },
  {
   "cell_type": "markdown",
   "metadata": {},
   "source": [
    "The following sample text is extracted from The Hindu Editorial page: https://www.thehindu.com/opinion/editorial/failure-of-justice/article25814414.ece"
   ]
  },
  {
   "cell_type": "code",
   "execution_count": 13,
   "metadata": {},
   "outputs": [],
   "source": [
    "text = \"The omnibus acquittal of all the police personnel accused of eliminating Sohrabuddin Sheikh in a fake encounter in Gujarat in 2005 represents a substantial failure of justice. It is true that it is not easy to obtain an order of conviction against police personnel accused of killing suspects in a fake encounter. It becomes that much harder for any agency when influential political leaders and top police officers are cited as accused. It is unsurprising that the case, in which BJP president Amit Shah and a few Indian Police Service officers had been discharged earlier, ended with the acquittal of 22 men, all but one of them policemen. As many as 92 of the 210 witnesses turned hostile. The trial judge himself appeared to be saddened by the outcome, but it is difficult to agree with his observation that one could not fault the CBI for witnesses going back on their statements. It is the prosecution’s duty to ensure the safety of witnesses and give them the confidence and courage to speak the truth under oath. While it is perhaps not surprising that witnesses in the police did not support the prosecution, it is disappointing that others could not be encouraged to do so. For instance, the driver and a passenger in a bus, allegedly intercepted by the police team and from which Sohrabuddin, his wife Kausar Bi and an associate, Tulsiram Prajapati, were taken away, denied such an incident took place.\""
   ]
  },
  {
   "cell_type": "code",
   "execution_count": 14,
   "metadata": {},
   "outputs": [],
   "source": [
    "sentences = sent_tokenize(text)"
   ]
  },
  {
   "cell_type": "code",
   "execution_count": 6,
   "metadata": {},
   "outputs": [
    {
     "data": {
      "text/plain": [
       "['The omnibus acquittal of all the police personnel accused of eliminating Sohrabuddin Sheikh in a fake encounter in Gujarat in 2005 represents a substantial failure of justice.',\n",
       " 'It is true that it is not easy to obtain an order of conviction against police personnel accused of killing suspects in a fake encounter.',\n",
       " 'It becomes that much harder for any agency when influential political leaders and top police officers are cited as accused.',\n",
       " 'It is unsurprising that the case, in which BJP president Amit Shah and a few Indian Police Service officers had been discharged earlier, ended with the acquittal of 22 men, all but one of them policemen.',\n",
       " 'As many as 92 of the 210 witnesses turned hostile.',\n",
       " 'The trial judge himself appeared to be saddened by the outcome, but it is difficult to agree with his observation that one could not fault the CBI for witnesses going back on their statements.',\n",
       " 'It is the prosecution’s duty to ensure the safety of witnesses and give them the confidence and courage to speak the truth under oath.',\n",
       " 'While it is perhaps not surprising that witnesses in the police did not support the prosecution, it is disappointing that others could not be encouraged to do so.',\n",
       " 'For instance, the driver and a passenger in a bus, allegedly intercepted by the police team and from which Sohrabuddin, his wife Kausar Bi and an associate, Tulsiram Prajapati, were taken away, denied such an incident took place.']"
      ]
     },
     "execution_count": 6,
     "metadata": {},
     "output_type": "execute_result"
    }
   ],
   "source": [
    "sentences"
   ]
  },
  {
   "cell_type": "markdown",
   "metadata": {},
   "source": [
    "The sentence tokenizer provides an array of separate sentences which can be accessed by the index of an array, range, etc."
   ]
  },
  {
   "cell_type": "code",
   "execution_count": 15,
   "metadata": {},
   "outputs": [
    {
     "data": {
      "text/plain": [
       "'The omnibus acquittal of all the police personnel accused of eliminating Sohrabuddin Sheikh in a fake encounter in Gujarat in 2005 represents a substantial failure of justice.'"
      ]
     },
     "execution_count": 15,
     "metadata": {},
     "output_type": "execute_result"
    }
   ],
   "source": [
    "sentences[0]"
   ]
  }
 ],
 "metadata": {
  "kernelspec": {
   "display_name": "Python 3",
   "language": "python",
   "name": "python3"
  },
  "language_info": {
   "codemirror_mode": {
    "name": "ipython",
    "version": 3
   },
   "file_extension": ".py",
   "mimetype": "text/x-python",
   "name": "python",
   "nbconvert_exporter": "python",
   "pygments_lexer": "ipython3",
   "version": "3.6.6"
  }
 },
 "nbformat": 4,
 "nbformat_minor": 2
}
