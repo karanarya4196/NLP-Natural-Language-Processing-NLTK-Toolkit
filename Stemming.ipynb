{
 "cells": [
  {
   "cell_type": "markdown",
   "metadata": {},
   "source": [
    "# Stemming"
   ]
  },
  {
   "cell_type": "markdown",
   "metadata": {},
   "source": [
    "To bring down complex word forms to their basic version, the stemmer is a useful feature in the NLTK library. To do so, here the PorterStemmer module is imported from the NLTK library."
   ]
  },
  {
   "cell_type": "code",
   "execution_count": 1,
   "metadata": {},
   "outputs": [],
   "source": [
    "from nltk.stem import PorterStemmer"
   ]
  },
  {
   "cell_type": "markdown",
   "metadata": {},
   "source": [
    "The `word_tokenize` is used to separate or tokenize all the words in a sentence."
   ]
  },
  {
   "cell_type": "code",
   "execution_count": 11,
   "metadata": {},
   "outputs": [],
   "source": [
    "from nltk.tokenize import word_tokenize"
   ]
  },
  {
   "cell_type": "code",
   "execution_count": 12,
   "metadata": {},
   "outputs": [],
   "source": [
    "stemmer = PorterStemmer()"
   ]
  },
  {
   "cell_type": "markdown",
   "metadata": {},
   "source": [
    "We load a sample text from the editorial of The Hindu. The url is: https://www.thehindu.com/opinion/editorial/failure-of-justice/article25814414.ece"
   ]
  },
  {
   "cell_type": "code",
   "execution_count": 13,
   "metadata": {},
   "outputs": [],
   "source": [
    "text = \"The omnibus acquittal of all the police personnel accused of eliminating Sohrabuddin Sheikh in a ‘fake encounter’ in Gujarat in 2005 represents a substantial failure of justice. It is true that it is not easy to obtain an order of conviction against police personnel accused of killing suspects in a fake encounter.\""
   ]
  },
  {
   "cell_type": "code",
   "execution_count": 9,
   "metadata": {},
   "outputs": [],
   "source": [
    "words = word_tokenize(text)"
   ]
  },
  {
   "cell_type": "markdown",
   "metadata": {},
   "source": [
    "After running a `for` loop on all the tokenized words, the base forms or 'stemmed' forms of the words are seen in the output."
   ]
  },
  {
   "cell_type": "code",
   "execution_count": 10,
   "metadata": {},
   "outputs": [
    {
     "name": "stdout",
     "output_type": "stream",
     "text": [
      "the\n",
      "omnibu\n",
      "acquitt\n",
      "of\n",
      "all\n",
      "the\n",
      "polic\n",
      "personnel\n",
      "accus\n",
      "of\n",
      "elimin\n",
      "sohrabuddin\n",
      "sheikh\n",
      "in\n",
      "a\n",
      "‘\n",
      "fake\n",
      "encount\n",
      "’\n",
      "in\n",
      "gujarat\n",
      "in\n",
      "2005\n",
      "repres\n",
      "a\n",
      "substanti\n",
      "failur\n",
      "of\n",
      "justic\n",
      ".\n",
      "It\n",
      "is\n",
      "true\n",
      "that\n",
      "it\n",
      "is\n",
      "not\n",
      "easi\n",
      "to\n",
      "obtain\n",
      "an\n",
      "order\n",
      "of\n",
      "convict\n",
      "against\n",
      "polic\n",
      "personnel\n",
      "accus\n",
      "of\n",
      "kill\n",
      "suspect\n",
      "in\n",
      "a\n",
      "fake\n",
      "encount\n",
      ".\n"
     ]
    }
   ],
   "source": [
    "for w in words:\n",
    "    print(stemmer.stem(w))"
   ]
  },
  {
   "cell_type": "markdown",
   "metadata": {},
   "source": [
    "Similarly, we can input a text file or a csv file and stem the whole document to bring all the words to their base forms, thereby reducing the complexity. Thus, it is an important method to know the keywords in the document which can be further utilised for extensive NLP analysis."
   ]
  }
 ],
 "metadata": {
  "kernelspec": {
   "display_name": "Python 3",
   "language": "python",
   "name": "python3"
  },
  "language_info": {
   "codemirror_mode": {
    "name": "ipython",
    "version": 3
   },
   "file_extension": ".py",
   "mimetype": "text/x-python",
   "name": "python",
   "nbconvert_exporter": "python",
   "pygments_lexer": "ipython3",
   "version": "3.6.6"
  }
 },
 "nbformat": 4,
 "nbformat_minor": 2
}
