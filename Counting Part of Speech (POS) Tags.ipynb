{
 "cells": [
  {
   "cell_type": "markdown",
   "metadata": {},
   "source": [
    "# Counting Part of Speech (POS) Tags"
   ]
  },
  {
   "cell_type": "markdown",
   "metadata": {},
   "source": [
    "Let us import `Counter` from the `collections` library to count the number of POS tags."
   ]
  },
  {
   "cell_type": "code",
   "execution_count": 24,
   "metadata": {},
   "outputs": [],
   "source": [
    "from collections import Counter"
   ]
  },
  {
   "cell_type": "markdown",
   "metadata": {},
   "source": [
    "We will be tokenizing our document into individual sentences and further break them down into words using `sent_tokenize` and `word_tokenize`."
   ]
  },
  {
   "cell_type": "code",
   "execution_count": 25,
   "metadata": {},
   "outputs": [],
   "source": [
    "import nltk\n",
    "from nltk.tokenize import sent_tokenize"
   ]
  },
  {
   "cell_type": "markdown",
   "metadata": {},
   "source": [
    "The following sample text is extracted from The Hindu Editorial page: https://www.thehindu.com/opinion/editorial/failure-of-justice/article25814414.ece"
   ]
  },
  {
   "cell_type": "code",
   "execution_count": 26,
   "metadata": {},
   "outputs": [],
   "source": [
    "text = \"It is unfortunate that the families of the victims do not have the consolation of anyone being brought to justice. While Sohrabuddin’s killing has ‘encounter’ as an explanation, his wife’s disappearance remains a mystery. It was not proved that she was taken to a farm, killed and her body burnt. And it cannot be a coincidence that Prajapati was killed a year later in Rajasthan in another encounter. It was under a cloud of suspicion over the circumstances of their death that Sohrabuddin’s brother had approached the Supreme Court and obtained an order for an investigation, which was subsequently handed over to the CBI.\""
   ]
  },
  {
   "cell_type": "code",
   "execution_count": 27,
   "metadata": {},
   "outputs": [],
   "source": [
    "tokenized_text = sent_tokenize(text)"
   ]
  },
  {
   "cell_type": "markdown",
   "metadata": {},
   "source": [
    "The document is broken to a list of sentences as below:"
   ]
  },
  {
   "cell_type": "code",
   "execution_count": 28,
   "metadata": {},
   "outputs": [
    {
     "data": {
      "text/plain": [
       "['It is unfortunate that the families of the victims do not have the consolation of anyone being brought to justice.',\n",
       " 'While Sohrabuddin’s killing has ‘encounter’ as an explanation, his wife’s disappearance remains a mystery.',\n",
       " 'It was not proved that she was taken to a farm, killed and her body burnt.',\n",
       " 'And it cannot be a coincidence that Prajapati was killed a year later in Rajasthan in another encounter.',\n",
       " 'It was under a cloud of suspicion over the circumstances of their death that Sohrabuddin’s brother had approached the Supreme Court and obtained an order for an investigation, which was subsequently handed over to the CBI.']"
      ]
     },
     "execution_count": 28,
     "metadata": {},
     "output_type": "execute_result"
    }
   ],
   "source": [
    "tokenized_text"
   ]
  },
  {
   "cell_type": "markdown",
   "metadata": {},
   "source": [
    "Run a `for` loop to iterate through every sentence of `tokenized_text` and perform the following functions:\n",
    "    1. Turn all the characters into lower case.\n",
    "    2. Tokenize the words of every sentence.\n",
    "    3. Assign POS tags.\n",
    "    4. Count the POS tags in every sentence. Example: The number of nouns, verbs, adjectives, etc. in the first sentence.\n",
    "    5. Print."
   ]
  },
  {
   "cell_type": "code",
   "execution_count": 23,
   "metadata": {},
   "outputs": [
    {
     "name": "stdout",
     "output_type": "stream",
     "text": [
      "Counter({'IN': 3, 'DT': 3, 'NN': 3, 'NNS': 2, 'PRP': 1, 'VBZ': 1, 'JJ': 1, 'VBP': 1, 'RB': 1, 'VB': 1, 'VBG': 1, 'VBN': 1, 'TO': 1, '.': 1}) \n",
      "\n",
      "Counter({'NN': 7, 'NNP': 3, 'IN': 2, 'VBZ': 2, 'DT': 2, 'JJ': 1, 'VBN': 1, 'RB': 1, ',': 1, 'PRP$': 1, '.': 1}) \n",
      "\n",
      "Counter({'VBN': 3, 'NN': 3, 'PRP': 2, 'VBD': 2, 'RB': 1, 'IN': 1, 'TO': 1, 'DT': 1, ',': 1, 'CC': 1, 'PRP$': 1, '.': 1}) \n",
      "\n",
      "Counter({'NN': 5, 'DT': 3, 'IN': 3, 'RB': 2, 'CC': 1, 'PRP': 1, 'MD': 1, 'VB': 1, 'VBD': 1, 'VBN': 1, '.': 1}) \n",
      "\n",
      "Counter({'NN': 9, 'IN': 6, 'DT': 6, 'VBD': 4, 'VBN': 2, 'PRP': 1, 'NNS': 1, 'PRP$': 1, 'VBZ': 1, 'NNP': 1, 'JJ': 1, 'CC': 1, ',': 1, 'WDT': 1, 'RB': 1, 'RP': 1, 'TO': 1, '.': 1}) \n",
      "\n"
     ]
    }
   ],
   "source": [
    "for i in tokenized_text:\n",
    "    lower_case = i.lower()\n",
    "    tokens = nltk.word_tokenize(lower_case)\n",
    "    tags = nltk.pos_tag(tokens)\n",
    "    counts = Counter( tag for word,  tag in tags)\n",
    "    print(counts, '\\n')"
   ]
  },
  {
   "cell_type": "markdown",
   "metadata": {},
   "source": [
    "The below table will help us identify the POS tags and their count in each sentence."
   ]
  },
  {
   "cell_type": "markdown",
   "metadata": {},
   "source": [
    "<img src = \"tagset.png\">"
   ]
  }
 ],
 "metadata": {
  "kernelspec": {
   "display_name": "Python 3",
   "language": "python",
   "name": "python3"
  },
  "language_info": {
   "codemirror_mode": {
    "name": "ipython",
    "version": 3
   },
   "file_extension": ".py",
   "mimetype": "text/x-python",
   "name": "python",
   "nbconvert_exporter": "python",
   "pygments_lexer": "ipython3",
   "version": "3.6.6"
  }
 },
 "nbformat": 4,
 "nbformat_minor": 2
}
