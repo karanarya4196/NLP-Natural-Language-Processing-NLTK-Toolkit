{
 "cells": [
  {
   "cell_type": "markdown",
   "metadata": {},
   "source": [
    "# Lemmatization"
   ]
  },
  {
   "cell_type": "markdown",
   "metadata": {},
   "source": [
    "To bring down complex word forms to their basic version, the lemmatizer is a useful feature in the NLTK library. To do so, the WordNetLemmatizer module is imported from the NLTK library."
   ]
  },
  {
   "cell_type": "code",
   "execution_count": 20,
   "metadata": {},
   "outputs": [],
   "source": [
    "from nltk.stem import WordNetLemmatizer"
   ]
  },
  {
   "cell_type": "code",
   "execution_count": 3,
   "metadata": {},
   "outputs": [],
   "source": [
    "lemma = WordNetLemmatizer()"
   ]
  },
  {
   "cell_type": "markdown",
   "metadata": {},
   "source": [
    "By default, the lemmatize function takes the Part of Speech (pos) tag of any particular word as a 'noun'. Below, if we do not specify the pos tag of screaming, it considers the word screaming as a noun and prints out the bae version of it."
   ]
  },
  {
   "cell_type": "code",
   "execution_count": 12,
   "metadata": {},
   "outputs": [
    {
     "name": "stdout",
     "output_type": "stream",
     "text": [
      "screaming\n"
     ]
    }
   ],
   "source": [
    "print(lemma.lemmatize('screaming'))"
   ]
  },
  {
   "cell_type": "markdown",
   "metadata": {},
   "source": [
    "Here, we specify the pos tag as a verb and we notice a change in the output. The base form of the verb screaming is scream. And rightly so!"
   ]
  },
  {
   "cell_type": "code",
   "execution_count": 21,
   "metadata": {},
   "outputs": [
    {
     "name": "stdout",
     "output_type": "stream",
     "text": [
      "scream\n"
     ]
    }
   ],
   "source": [
    "print(lemma.lemmatize('screaming', pos = 'v'))"
   ]
  },
  {
   "cell_type": "markdown",
   "metadata": {},
   "source": [
    "Similarly, we can input a text file or a csv file and lemmatize the whole document to bring all the words to their base forms, thereby reducing the complexity. Thus, it is an important method to know the keywords in the document which can be further utilised for extensive NLP analysis."
   ]
  }
 ],
 "metadata": {
  "kernelspec": {
   "display_name": "Python 3",
   "language": "python",
   "name": "python3"
  },
  "language_info": {
   "codemirror_mode": {
    "name": "ipython",
    "version": 3
   },
   "file_extension": ".py",
   "mimetype": "text/x-python",
   "name": "python",
   "nbconvert_exporter": "python",
   "pygments_lexer": "ipython3",
   "version": "3.6.6"
  }
 },
 "nbformat": 4,
 "nbformat_minor": 2
}
