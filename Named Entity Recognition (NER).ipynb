{
 "cells": [
  {
   "cell_type": "markdown",
   "metadata": {},
   "source": [
    "# Named Entity Recognition (NER)"
   ]
  },
  {
   "cell_type": "markdown",
   "metadata": {},
   "source": [
    "NER is used to locate and classify named entity mentions into pre-defined categories such as the person names, organizations, locations, medical codes, time expressions, quantities, monetary values, percentages, etc."
   ]
  },
  {
   "cell_type": "code",
   "execution_count": 16,
   "metadata": {},
   "outputs": [],
   "source": [
    "import nltk\n",
    "from nltk.tokenize import sent_tokenize"
   ]
  },
  {
   "cell_type": "markdown",
   "metadata": {},
   "source": [
    "The following sample text is extracted from Wikipedia: https://en.wikipedia.org/wiki/Steve_Jobs"
   ]
  },
  {
   "cell_type": "code",
   "execution_count": 17,
   "metadata": {},
   "outputs": [],
   "source": [
    "text = \"Steven Paul Jobs was an American business magnate and investor. He was the chairman, chief executive officer, and co-founder of Apple Inc.; chairman and majority shareholder of Pixar.\""
   ]
  },
  {
   "cell_type": "code",
   "execution_count": 18,
   "metadata": {},
   "outputs": [],
   "source": [
    "tokenizer = sent_tokenize(text)"
   ]
  },
  {
   "cell_type": "markdown",
   "metadata": {},
   "source": [
    "Run a loop which iterates through all the sentences in the document, separates each word using `word_tokenize` and assigns a POS tag using `pos_tag`.\n",
    "\n",
    "Example: \n",
    "    \n",
    "Sentence 1\n",
    "    \n",
    "    Word 1 -> POS tag assigned\n",
    "    Word 2 -> POS tag assigned\n",
    "    Word 3 -> POS tag assigned\n",
    "    Word 4 -> POS tag assigned\n",
    "    Word 5 -> POS tag assigned\n",
    "    \n",
    "Sentence 2\n",
    "\n",
    "    Word 1 -> POS tag assigned\n",
    "    Word 2 -> POS tag assigned\n",
    "    Word 3 -> POS tag assigned\n",
    "    Word 4 -> POS tag assigned\n",
    "    Word 5 -> POS tag assigned\n",
    "    \n",
    ".\n",
    "\n",
    ".\n",
    "\n",
    ".\n",
    "\n",
    ".\n",
    "\n",
    ".\n",
    "\n",
    ".\n",
    "\n",
    "(iterates till all the words in all the sentences are tagged in the document)\n",
    "\n",
    "Later on, every word is classified according to Named Entity Recognition (NER) feature using `ne_chunk`."
   ]
  },
  {
   "cell_type": "code",
   "execution_count": 20,
   "metadata": {},
   "outputs": [
    {
     "name": "stdout",
     "output_type": "stream",
     "text": [
      "[('Steven', 'NNP'), ('Paul', 'NNP'), ('Jobs', 'NNP'), ('was', 'VBD'), ('an', 'DT'), ('American', 'JJ'), ('business', 'NN'), ('magnate', 'NN'), ('and', 'CC'), ('investor', 'NN'), ('.', '.')]\n",
      "(S\n",
      "  (NE Steven/NNP Paul/NNP Jobs/NNP)\n",
      "  was/VBD\n",
      "  an/DT\n",
      "  (NE American/JJ)\n",
      "  business/NN\n",
      "  magnate/NN\n",
      "  and/CC\n",
      "  investor/NN\n",
      "  ./.)\n",
      "[('He', 'PRP'), ('was', 'VBD'), ('the', 'DT'), ('chairman', 'NN'), (',', ','), ('chief', 'JJ'), ('executive', 'NN'), ('officer', 'NN'), (',', ','), ('and', 'CC'), ('co-founder', 'NN'), ('of', 'IN'), ('Apple', 'NNP'), ('Inc.', 'NNP'), (';', ':'), ('chairman', 'NN'), ('and', 'CC'), ('majority', 'NN'), ('shareholder', 'NN'), ('of', 'IN'), ('Pixar', 'NNP'), ('.', '.')]\n",
      "(S\n",
      "  He/PRP\n",
      "  was/VBD\n",
      "  the/DT\n",
      "  chairman/NN\n",
      "  ,/,\n",
      "  chief/JJ\n",
      "  executive/NN\n",
      "  officer/NN\n",
      "  ,/,\n",
      "  and/CC\n",
      "  co-founder/NN\n",
      "  of/IN\n",
      "  (NE Apple/NNP Inc./NNP)\n",
      "  ;/:\n",
      "  chairman/NN\n",
      "  and/CC\n",
      "  majority/NN\n",
      "  shareholder/NN\n",
      "  of/IN\n",
      "  (NE Pixar/NNP)\n",
      "  ./.)\n"
     ]
    }
   ],
   "source": [
    "for i in tokenizer:\n",
    "    words = nltk.word_tokenize(i)\n",
    "    tagged = nltk.pos_tag(words)\n",
    "    print(tagged)\n",
    "    \n",
    "    named_entity = nltk.ne_chunk(tagged, binary = True)\n",
    "    print(named_entity)"
   ]
  },
  {
   "cell_type": "markdown",
   "metadata": {},
   "source": [
    "### Note:\n",
    "    \n",
    "The parameter `binary = True` in `named_entity = nltk.ne_chunk(tagged, binary = True)` combines Steven Paul Jobs as one PERSON.\n",
    "    \n",
    "If only `named_entity = nltk.ne_chunk(tagged)` statement is passed, Steven and Paul Jobs will be identified as two different PERSONS."
   ]
  },
  {
   "cell_type": "markdown",
   "metadata": {},
   "source": [
    "It is observed that Steven Paul Jobs is identified as a PERSON, American is identified as a GPE (Geo-Political Entity), Apple Inc. as an ORGANIZATION, etc."
   ]
  }
 ],
 "metadata": {
  "kernelspec": {
   "display_name": "Python 3",
   "language": "python",
   "name": "python3"
  },
  "language_info": {
   "codemirror_mode": {
    "name": "ipython",
    "version": 3
   },
   "file_extension": ".py",
   "mimetype": "text/x-python",
   "name": "python",
   "nbconvert_exporter": "python",
   "pygments_lexer": "ipython3",
   "version": "3.6.6"
  }
 },
 "nbformat": 4,
 "nbformat_minor": 2
}
