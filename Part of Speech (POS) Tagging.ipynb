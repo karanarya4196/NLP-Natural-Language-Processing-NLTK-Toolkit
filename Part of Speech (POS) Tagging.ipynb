{
 "cells": [
  {
   "cell_type": "markdown",
   "metadata": {},
   "source": [
    "# Part of Speech (POS) Tagging"
   ]
  },
  {
   "cell_type": "markdown",
   "metadata": {},
   "source": [
    "What do we do if we would like to identify the parts of speech of all the words in a sentence? The answer is POS tagging."
   ]
  },
  {
   "cell_type": "code",
   "execution_count": 17,
   "metadata": {},
   "outputs": [],
   "source": [
    "import nltk\n",
    "from nltk.tokenize import sent_tokenize"
   ]
  },
  {
   "cell_type": "markdown",
   "metadata": {},
   "source": [
    "Import `sent_tokenize` to separate all the sentences into separate entities."
   ]
  },
  {
   "cell_type": "code",
   "execution_count": 18,
   "metadata": {},
   "outputs": [],
   "source": [
    "text = \"It is unfortunate that the families of the victims do not have the consolation of anyone being brought to justice. While Sohrabuddin’s killing has ‘encounter’ as an explanation, his wife’s disappearance remains a mystery. It was not proved that she was taken to a farm, killed and her body burnt. And it cannot be a coincidence that Prajapati was killed a year later in Rajasthan in another encounter. It was under a cloud of suspicion over the circumstances of their death that Sohrabuddin’s brother had approached the Supreme Court and obtained an order for an investigation, which was subsequently handed over to the CBI. In losing this case, the CBI has shown that it continues to struggle when it comes to handling cases with political overtones. The 2014 discharge of Mr. Shah and the subsequent pre-trial exoneration of senior police officer D.G. Vanzara had come as a boost to the BJP. The final decision in the trial is also likely to be interpreted as a justification for some encounters that took place in Gujarat when Narendra Modi was Chief Minister. Mr. Vanzara has implied as much in controversial tweets. He has also claimed that such ‘pre-emptive encounters’ were needed to save Mr. Modi. This is a tacit acknowledgement that these may not have been chance encounters, as genuine ones are supposed to be, but part of a plan to eliminate a threat to the leader’s life through extrajudicial killings. It is regrettable that such a triumphalist narrative is sought to be built around such incidents.\""
   ]
  },
  {
   "cell_type": "code",
   "execution_count": 20,
   "metadata": {},
   "outputs": [],
   "source": [
    "tokenizer = sent_tokenize(text)"
   ]
  },
  {
   "cell_type": "markdown",
   "metadata": {},
   "source": [
    "Run a loop which iterates through all the sentences in the document, separates each word using `word_tokenize` and assigns a POS tag using `pos_tag`.\n",
    "\n",
    "Example: \n",
    "    \n",
    "Sentence 1\n",
    "    \n",
    "    Word 1 -> POS tag assigned\n",
    "    Word 2 -> POS tag assigned\n",
    "    Word 3 -> POS tag assigned\n",
    "    Word 4 -> POS tag assigned\n",
    "    Word 5 -> POS tag assigned\n",
    "    \n",
    "Sentence 2\n",
    "\n",
    "    Word 1 -> POS tag assigned\n",
    "    Word 2 -> POS tag assigned\n",
    "    Word 3 -> POS tag assigned\n",
    "    Word 4 -> POS tag assigned\n",
    "    Word 5 -> POS tag assigned\n",
    "    \n",
    ".\n",
    "\n",
    ".\n",
    "\n",
    ".\n",
    "\n",
    ".\n",
    "\n",
    ".\n",
    "\n",
    ".\n",
    "\n",
    "(iterates till all the words in all the sentences are tagged in the document)"
   ]
  },
  {
   "cell_type": "code",
   "execution_count": 22,
   "metadata": {},
   "outputs": [
    {
     "name": "stdout",
     "output_type": "stream",
     "text": [
      "[('It', 'PRP'), ('is', 'VBZ'), ('unfortunate', 'JJ'), ('that', 'IN'), ('the', 'DT'), ('families', 'NNS'), ('of', 'IN'), ('the', 'DT'), ('victims', 'NNS'), ('do', 'VBP'), ('not', 'RB'), ('have', 'VB'), ('the', 'DT'), ('consolation', 'NN'), ('of', 'IN'), ('anyone', 'NN'), ('being', 'VBG'), ('brought', 'VBN'), ('to', 'TO'), ('justice', 'NN'), ('.', '.')]\n",
      "[('While', 'IN'), ('Sohrabuddin', 'NNP'), ('’', 'NNP'), ('s', 'NN'), ('killing', 'NN'), ('has', 'VBZ'), ('‘', 'VBN'), ('encounter', 'RB'), ('’', 'NNP'), ('as', 'IN'), ('an', 'DT'), ('explanation', 'NN'), (',', ','), ('his', 'PRP$'), ('wife', 'NN'), ('’', 'NNP'), ('s', 'NN'), ('disappearance', 'NN'), ('remains', 'VBZ'), ('a', 'DT'), ('mystery', 'NN'), ('.', '.')]\n",
      "[('It', 'PRP'), ('was', 'VBD'), ('not', 'RB'), ('proved', 'VBN'), ('that', 'IN'), ('she', 'PRP'), ('was', 'VBD'), ('taken', 'VBN'), ('to', 'TO'), ('a', 'DT'), ('farm', 'NN'), (',', ','), ('killed', 'VBN'), ('and', 'CC'), ('her', 'PRP$'), ('body', 'NN'), ('burnt', 'NN'), ('.', '.')]\n",
      "[('And', 'CC'), ('it', 'PRP'), ('can', 'MD'), ('not', 'RB'), ('be', 'VB'), ('a', 'DT'), ('coincidence', 'NN'), ('that', 'IN'), ('Prajapati', 'NNP'), ('was', 'VBD'), ('killed', 'VBN'), ('a', 'DT'), ('year', 'NN'), ('later', 'RB'), ('in', 'IN'), ('Rajasthan', 'NNP'), ('in', 'IN'), ('another', 'DT'), ('encounter', 'NN'), ('.', '.')]\n",
      "[('It', 'PRP'), ('was', 'VBD'), ('under', 'IN'), ('a', 'DT'), ('cloud', 'NN'), ('of', 'IN'), ('suspicion', 'NN'), ('over', 'IN'), ('the', 'DT'), ('circumstances', 'NNS'), ('of', 'IN'), ('their', 'PRP$'), ('death', 'NN'), ('that', 'IN'), ('Sohrabuddin', 'NNP'), ('’', 'NNP'), ('s', 'NN'), ('brother', 'NN'), ('had', 'VBD'), ('approached', 'VBN'), ('the', 'DT'), ('Supreme', 'NNP'), ('Court', 'NNP'), ('and', 'CC'), ('obtained', 'VBD'), ('an', 'DT'), ('order', 'NN'), ('for', 'IN'), ('an', 'DT'), ('investigation', 'NN'), (',', ','), ('which', 'WDT'), ('was', 'VBD'), ('subsequently', 'RB'), ('handed', 'VBN'), ('over', 'RP'), ('to', 'TO'), ('the', 'DT'), ('CBI', 'NNP'), ('.', '.')]\n",
      "[('In', 'IN'), ('losing', 'VBG'), ('this', 'DT'), ('case', 'NN'), (',', ','), ('the', 'DT'), ('CBI', 'NNP'), ('has', 'VBZ'), ('shown', 'VBN'), ('that', 'IN'), ('it', 'PRP'), ('continues', 'VBZ'), ('to', 'TO'), ('struggle', 'VB'), ('when', 'WRB'), ('it', 'PRP'), ('comes', 'VBZ'), ('to', 'TO'), ('handling', 'VBG'), ('cases', 'NNS'), ('with', 'IN'), ('political', 'JJ'), ('overtones', 'NNS'), ('.', '.')]\n",
      "[('The', 'DT'), ('2014', 'CD'), ('discharge', 'NN'), ('of', 'IN'), ('Mr.', 'NNP'), ('Shah', 'NNP'), ('and', 'CC'), ('the', 'DT'), ('subsequent', 'JJ'), ('pre-trial', 'JJ'), ('exoneration', 'NN'), ('of', 'IN'), ('senior', 'JJ'), ('police', 'NNS'), ('officer', 'NN'), ('D.G', 'NNP'), ('.', '.')]\n",
      "[('Vanzara', 'NNP'), ('had', 'VBD'), ('come', 'VBN'), ('as', 'IN'), ('a', 'DT'), ('boost', 'NN'), ('to', 'TO'), ('the', 'DT'), ('BJP', 'NNP'), ('.', '.')]\n",
      "[('The', 'DT'), ('final', 'JJ'), ('decision', 'NN'), ('in', 'IN'), ('the', 'DT'), ('trial', 'NN'), ('is', 'VBZ'), ('also', 'RB'), ('likely', 'JJ'), ('to', 'TO'), ('be', 'VB'), ('interpreted', 'VBN'), ('as', 'IN'), ('a', 'DT'), ('justification', 'NN'), ('for', 'IN'), ('some', 'DT'), ('encounters', 'NNS'), ('that', 'WDT'), ('took', 'VBD'), ('place', 'NN'), ('in', 'IN'), ('Gujarat', 'NNP'), ('when', 'WRB'), ('Narendra', 'NNP'), ('Modi', 'NNP'), ('was', 'VBD'), ('Chief', 'JJ'), ('Minister', 'NNP'), ('.', '.')]\n",
      "[('Mr.', 'NNP'), ('Vanzara', 'NNP'), ('has', 'VBZ'), ('implied', 'VBN'), ('as', 'IN'), ('much', 'JJ'), ('in', 'IN'), ('controversial', 'JJ'), ('tweets', 'NNS'), ('.', '.')]\n",
      "[('He', 'PRP'), ('has', 'VBZ'), ('also', 'RB'), ('claimed', 'VBN'), ('that', 'IN'), ('such', 'JJ'), ('‘', 'JJ'), ('pre-emptive', 'JJ'), ('encounters', 'NNS'), ('’', 'VBP'), ('were', 'VBD'), ('needed', 'VBN'), ('to', 'TO'), ('save', 'VB'), ('Mr.', 'NNP'), ('Modi', 'NNP'), ('.', '.')]\n",
      "[('This', 'DT'), ('is', 'VBZ'), ('a', 'DT'), ('tacit', 'JJ'), ('acknowledgement', 'NN'), ('that', 'IN'), ('these', 'DT'), ('may', 'MD'), ('not', 'RB'), ('have', 'VB'), ('been', 'VBN'), ('chance', 'NN'), ('encounters', 'NNS'), (',', ','), ('as', 'IN'), ('genuine', 'JJ'), ('ones', 'NNS'), ('are', 'VBP'), ('supposed', 'VBN'), ('to', 'TO'), ('be', 'VB'), (',', ','), ('but', 'CC'), ('part', 'NN'), ('of', 'IN'), ('a', 'DT'), ('plan', 'NN'), ('to', 'TO'), ('eliminate', 'VB'), ('a', 'DT'), ('threat', 'NN'), ('to', 'TO'), ('the', 'DT'), ('leader', 'NN'), ('’', 'NNP'), ('s', 'VBD'), ('life', 'NN'), ('through', 'IN'), ('extrajudicial', 'JJ'), ('killings', 'NNS'), ('.', '.')]\n",
      "[('It', 'PRP'), ('is', 'VBZ'), ('regrettable', 'JJ'), ('that', 'IN'), ('such', 'PDT'), ('a', 'DT'), ('triumphalist', 'NN'), ('narrative', 'NN'), ('is', 'VBZ'), ('sought', 'VBN'), ('to', 'TO'), ('be', 'VB'), ('built', 'VBN'), ('around', 'IN'), ('such', 'JJ'), ('incidents', 'NNS'), ('.', '.')]\n"
     ]
    }
   ],
   "source": [
    "for i in tokenizer:\n",
    "    words = nltk.word_tokenize(i)\n",
    "    tagged = nltk.pos_tag(words)\n",
    "    print(tagged)"
   ]
  },
  {
   "cell_type": "markdown",
   "metadata": {},
   "source": [
    "<img src=\"tagset.png\">"
   ]
  },
  {
   "cell_type": "markdown",
   "metadata": {},
   "source": [
    "The above table will help us to identify the Part of Speech (POS) tags. Example: NNP = Proper Noun, Singular."
   ]
  }
 ],
 "metadata": {
  "kernelspec": {
   "display_name": "Python 3",
   "language": "python",
   "name": "python3"
  },
  "language_info": {
   "codemirror_mode": {
    "name": "ipython",
    "version": 3
   },
   "file_extension": ".py",
   "mimetype": "text/x-python",
   "name": "python",
   "nbconvert_exporter": "python",
   "pygments_lexer": "ipython3",
   "version": "3.6.6"
  }
 },
 "nbformat": 4,
 "nbformat_minor": 2
}
