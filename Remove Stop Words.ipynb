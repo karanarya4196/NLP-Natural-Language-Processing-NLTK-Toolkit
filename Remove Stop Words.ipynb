{
 "cells": [
  {
   "cell_type": "markdown",
   "metadata": {},
   "source": [
    "# Remove Stop Words"
   ]
  },
  {
   "cell_type": "markdown",
   "metadata": {},
   "source": [
    "In natural language processing, useless words (data), are referred to as stop words. A stop word is a commonly used word (such as “the”, “a”, “an”, “in”) that a search engine has been programmed to ignore, both when indexing entries for searching and when retrieving them as the result of a search query."
   ]
  },
  {
   "cell_type": "markdown",
   "metadata": {},
   "source": [
    "To remove stopwords, we import the `stopwords` module from the `nltk.corpus` library."
   ]
  },
  {
   "cell_type": "code",
   "execution_count": 14,
   "metadata": {},
   "outputs": [],
   "source": [
    "from nltk.corpus import stopwords"
   ]
  },
  {
   "cell_type": "markdown",
   "metadata": {},
   "source": [
    "Word tokenization is implemented using `word_tokenize`."
   ]
  },
  {
   "cell_type": "code",
   "execution_count": 3,
   "metadata": {},
   "outputs": [],
   "source": [
    "from nltk.tokenize import word_tokenize"
   ]
  },
  {
   "cell_type": "markdown",
   "metadata": {},
   "source": [
    "The follwing sample text is extracted from The Hindu Editorial page: https://www.thehindu.com/opinion/editorial/failure-of-justice/article25814414.ece"
   ]
  },
  {
   "cell_type": "code",
   "execution_count": 15,
   "metadata": {},
   "outputs": [],
   "source": [
    "text = \"It is unfortunate that the families of the victims do not have the consolation of anyone being brought to justice. While Sohrabuddin’s killing has ‘encounter’ as an explanation, his wife’s disappearance remains a mystery. It was not proved that she was taken to a farm, killed and her body burnt. And it cannot be a coincidence that Prajapati was killed a year later in Rajasthan in another encounter. It was under a cloud of suspicion over the circumstances of their death that Sohrabuddin’s brother had approached the Supreme Court and obtained an order for an investigation, which was subsequently handed over to the CBI. In losing this case, the CBI has shown that it continues to struggle when it comes to handling cases with political overtones. The 2014 discharge of Mr. Shah and the subsequent pre-trial exoneration of senior police officer D.G. Vanzara had come as a boost to the BJP. The final decision in the trial is also likely to be interpreted as a justification for some encounters that took place in Gujarat when Narendra Modi was Chief Minister. Mr. Vanzara has implied as much in controversial tweets. He has also claimed that such ‘pre-emptive encounters’ were needed to save Mr. Modi. This is a tacit acknowledgement that these may not have been chance encounters, as genuine ones are supposed to be, but part of a plan to eliminate a threat to the leader’s life through extrajudicial killings. It is regrettable that such a triumphalist narrative is sought to be built around such incidents.\""
   ]
  },
  {
   "cell_type": "markdown",
   "metadata": {},
   "source": [
    "We can extract stopwords in multiple languages. As of now, we are considering English as the language."
   ]
  },
  {
   "cell_type": "code",
   "execution_count": 16,
   "metadata": {},
   "outputs": [],
   "source": [
    "stop_words = set(stopwords.words(\"english\"))"
   ]
  },
  {
   "cell_type": "markdown",
   "metadata": {},
   "source": [
    "There are many words which are not of any significance when it comes to extraction of context from the sample text. Words like 'who', 'themselves', 'each', 'no', \"haven't\", etc. do not contribute to the meaning."
   ]
  },
  {
   "cell_type": "code",
   "execution_count": 6,
   "metadata": {},
   "outputs": [
    {
     "name": "stdout",
     "output_type": "stream",
     "text": [
      "{'who', 'themselves', 'each', 'no', \"haven't\", 'these', 'yourselves', \"doesn't\", 'it', 'yours', 'out', 'off', 'against', 'll', 'there', 'very', 'most', 'during', 'you', 'here', 'than', 'before', 'from', \"it's\", 'she', 'needn', \"didn't\", 'while', 'but', \"you'd\", 'same', 'any', 'him', 'shan', 'down', 'them', 'd', 'myself', 'are', 'once', 'of', 'if', 'more', 'ourselves', 'above', 'won', 'whom', \"shouldn't\", 'what', 'for', 'below', 'will', 'as', 'after', \"isn't\", 'over', 'shouldn', 'does', 'hasn', 'on', 'where', 's', 'other', 'again', \"don't\", \"you're\", \"you've\", 'itself', \"she's\", 'an', 'up', 'few', 'i', 'not', 'isn', 'hers', 'mightn', 'your', 'a', 'just', 'we', \"should've\", 'and', 'then', 'they', 'wasn', \"won't\", 'hadn', 'to', 'were', 'his', 'those', \"wouldn't\", 'under', \"needn't\", 'do', 'with', 'some', 'now', 'did', \"shan't\", \"mightn't\", \"you'll\", 'theirs', 'only', 're', 'nor', 'all', 'himself', 'is', 'both', 'our', \"aren't\", 'doesn', \"hadn't\", 'have', 'was', \"that'll\", 'y', 'wouldn', 'be', 'why', 'don', 'o', 'between', 'having', 'me', 'couldn', 'into', 'or', 've', 'yourself', 'by', 'aren', 'weren', 'in', 'been', 'has', 'at', 'their', 'this', 'being', 'too', 'm', 'didn', 'the', 'until', 'he', 'which', 'doing', \"hasn't\", \"weren't\", 'should', 'about', 'can', 'that', 'how', 'ain', 'ours', 'am', 't', 'haven', 'its', 'my', 'through', 'ma', 'because', 'mustn', 'had', \"wasn't\", 'further', \"couldn't\", 'so', 'herself', \"mustn't\", 'her', 'when', 'own', 'such'}\n"
     ]
    }
   ],
   "source": [
    "print(stop_words)"
   ]
  },
  {
   "cell_type": "markdown",
   "metadata": {},
   "source": [
    "## Filtering the Text from Stop Words"
   ]
  },
  {
   "cell_type": "code",
   "execution_count": 17,
   "metadata": {},
   "outputs": [],
   "source": [
    "words = word_tokenize(text)"
   ]
  },
  {
   "cell_type": "markdown",
   "metadata": {},
   "source": [
    "Creata a new list to add the words of contextual relevance. That is, (original text - stop words) = words of contextual relevance."
   ]
  },
  {
   "cell_type": "code",
   "execution_count": 18,
   "metadata": {},
   "outputs": [],
   "source": [
    "filtered_sentence = []"
   ]
  },
  {
   "cell_type": "markdown",
   "metadata": {},
   "source": [
    "Run a loop, and test if w is not in the list of `stop_words`, then add it to the `filtered_sentence` list, else remove."
   ]
  },
  {
   "cell_type": "code",
   "execution_count": 19,
   "metadata": {},
   "outputs": [],
   "source": [
    "for w in words:\n",
    "    if w not in stop_words:\n",
    "        filtered_sentence.append(w)"
   ]
  },
  {
   "cell_type": "code",
   "execution_count": 20,
   "metadata": {},
   "outputs": [
    {
     "name": "stdout",
     "output_type": "stream",
     "text": [
      "['It', 'unfortunate', 'families', 'victims', 'consolation', 'anyone', 'brought', 'justice', '.', 'While', 'Sohrabuddin', '’', 'killing', '‘', 'encounter', '’', 'explanation', ',', 'wife', '’', 'disappearance', 'remains', 'mystery', '.', 'It', 'proved', 'taken', 'farm', ',', 'killed', 'body', 'burnt', '.', 'And', 'coincidence', 'Prajapati', 'killed', 'year', 'later', 'Rajasthan', 'another', 'encounter', '.', 'It', 'cloud', 'suspicion', 'circumstances', 'death', 'Sohrabuddin', '’', 'brother', 'approached', 'Supreme', 'Court', 'obtained', 'order', 'investigation', ',', 'subsequently', 'handed', 'CBI', '.', 'In', 'losing', 'case', ',', 'CBI', 'shown', 'continues', 'struggle', 'comes', 'handling', 'cases', 'political', 'overtones', '.', 'The', '2014', 'discharge', 'Mr.', 'Shah', 'subsequent', 'pre-trial', 'exoneration', 'senior', 'police', 'officer', 'D.G', '.', 'Vanzara', 'come', 'boost', 'BJP', '.', 'The', 'final', 'decision', 'trial', 'also', 'likely', 'interpreted', 'justification', 'encounters', 'took', 'place', 'Gujarat', 'Narendra', 'Modi', 'Chief', 'Minister', '.', 'Mr.', 'Vanzara', 'implied', 'much', 'controversial', 'tweets', '.', 'He', 'also', 'claimed', '‘', 'pre-emptive', 'encounters', '’', 'needed', 'save', 'Mr.', 'Modi', '.', 'This', 'tacit', 'acknowledgement', 'may', 'chance', 'encounters', ',', 'genuine', 'ones', 'supposed', ',', 'part', 'plan', 'eliminate', 'threat', 'leader', '’', 'life', 'extrajudicial', 'killings', '.', 'It', 'regrettable', 'triumphalist', 'narrative', 'sought', 'built', 'around', 'incidents', '.']\n"
     ]
    }
   ],
   "source": [
    "print(filtered_sentence)"
   ]
  },
  {
   "cell_type": "markdown",
   "metadata": {},
   "source": [
    "Now, compare the above output with the originial text:\n",
    "    \n",
    "\"It is unfortunate that the families of the victims do not have the consolation of anyone being brought to justice. While Sohrabuddin’s killing has ‘encounter’ as an explanation, his wife’s disappearance remains a mystery. It was not proved that she was taken to a farm, killed and her body burnt. And it cannot be a coincidence that Prajapati was killed a year later in Rajasthan in another encounter. It was under a cloud of suspicion over the circumstances of their death that Sohrabuddin’s brother had approached the Supreme Court and obtained an order for an investigation, which was subsequently handed over to the CBI. In losing this case, the CBI has shown that it continues to struggle when it comes to handling cases with political overtones. The 2014 discharge of Mr. Shah and the subsequent pre-trial exoneration of senior police officer D.G. Vanzara had come as a boost to the BJP. The final decision in the trial is also likely to be interpreted as a justification for some encounters that took place in Gujarat when Narendra Modi was Chief Minister. Mr. Vanzara has implied as much in controversial tweets. He has also claimed that such ‘pre-emptive encounters’ were needed to save Mr. Modi. This is a tacit acknowledgement that these may not have been chance encounters, as genuine ones are supposed to be, but part of a plan to eliminate a threat to the leader’s life through extrajudicial killings. It is regrettable that such a triumphalist narrative is sought to be built around such incidents.\""
   ]
  },
  {
   "cell_type": "markdown",
   "metadata": {},
   "source": [
    "It can be observed that the stop words have been successfully removed."
   ]
  },
  {
   "cell_type": "markdown",
   "metadata": {},
   "source": [
    "### One-line code to filter out the stop words from our document:"
   ]
  },
  {
   "cell_type": "code",
   "execution_count": 12,
   "metadata": {},
   "outputs": [],
   "source": [
    "filtered_sentence = [w for w in words if not w in stop_words]"
   ]
  },
  {
   "cell_type": "code",
   "execution_count": 13,
   "metadata": {},
   "outputs": [
    {
     "name": "stdout",
     "output_type": "stream",
     "text": [
      "['It', 'unfortunate', 'families', 'victims', 'consolation', 'anyone', 'brought', 'justice', '.', 'While', 'Sohrabuddin', '’', 'killing', '‘', 'encounter', '’', 'explanation', ',', 'wife', '’', 'disappearance', 'remains', 'mystery', '.', 'It', 'proved', 'taken', 'farm', ',', 'killed', 'body', 'burnt', '.', 'And', 'coincidence', 'Prajapati', 'killed', 'year', 'later', 'Rajasthan', 'another', 'encounter', '.', 'It', 'cloud', 'suspicion', 'circumstances', 'death', 'Sohrabuddin', '’', 'brother', 'approached', 'Supreme', 'Court', 'obtained', 'order', 'investigation', ',', 'subsequently', 'handed', 'CBI', '.', 'In', 'losing', 'case', ',', 'CBI', 'shown', 'continues', 'struggle', 'comes', 'handling', 'cases', 'political', 'overtones', '.', 'The', '2014', 'discharge', 'Mr.', 'Shah', 'subsequent', 'pre-trial', 'exoneration', 'senior', 'police', 'officer', 'D.G', '.', 'Vanzara', 'come', 'boost', 'BJP', '.', 'The', 'final', 'decision', 'trial', 'also', 'likely', 'interpreted', 'justification', 'encounters', 'took', 'place', 'Gujarat', 'Narendra', 'Modi', 'Chief', 'Minister', '.', 'Mr.', 'Vanzara', 'implied', 'much', 'controversial', 'tweets', '.', 'He', 'also', 'claimed', '‘', 'pre-emptive', 'encounters', '’', 'needed', 'save', 'Mr.', 'Modi', '.', 'This', 'tacit', 'acknowledgement', 'may', 'chance', 'encounters', ',', 'genuine', 'ones', 'supposed', ',', 'part', 'plan', 'eliminate', 'threat', 'leader', '’', 'life', 'extrajudicial', 'killings', '.', 'It', 'regrettable', 'triumphalist', 'narrative', 'sought', 'built', 'around', 'incidents', '.']\n"
     ]
    }
   ],
   "source": [
    "print(filtered_sentence)"
   ]
  },
  {
   "cell_type": "markdown",
   "metadata": {},
   "source": [
    "The above `list comprehension` code gives the same output."
   ]
  }
 ],
 "metadata": {
  "kernelspec": {
   "display_name": "Python 3",
   "language": "python",
   "name": "python3"
  },
  "language_info": {
   "codemirror_mode": {
    "name": "ipython",
    "version": 3
   },
   "file_extension": ".py",
   "mimetype": "text/x-python",
   "name": "python",
   "nbconvert_exporter": "python",
   "pygments_lexer": "ipython3",
   "version": "3.6.6"
  }
 },
 "nbformat": 4,
 "nbformat_minor": 2
}
